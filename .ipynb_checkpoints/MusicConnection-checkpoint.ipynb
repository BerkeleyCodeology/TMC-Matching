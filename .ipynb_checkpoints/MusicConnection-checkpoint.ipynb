{
 "cells": [
  {
   "cell_type": "code",
   "execution_count": null,
   "metadata": {},
   "outputs": [],
   "source": [
    "import time\n",
    "import pandas as pd\n",
    "import numpy as np\n",
    "import itertools\n",
    "\n",
    "start = time.time()\n",
    "\n",
    "full_tutors = pd.read_csv(\"tutors.csv\")\n",
    "full_classes = pd.read_csv(\"classes.csv\")\n",
    "full_students = pd.read_csv(\"students.csv\")"
   ]
  },
  {
   "cell_type": "code",
   "execution_count": null,
   "metadata": {},
   "outputs": [],
   "source": [
    "# minor preprocessing of original dataframes for better organization later\n",
    "full_tutors = full_tutors.rename(columns={'Name' : 'Tutor', 'Are you interested in Private Tutoring? How many students are you interested in tutoring?' : 'Private Tutoring', 'Which instrument(s) would you like to teach?': 'Instrument', 'Grade levels you prefer to work with:': 'Grade', 'Are you interested in In-Class Tutoring? How many classes would you like to help out with?' : 'Class Tutoring'})\n",
    "full_classes = full_classes.rename(columns={'Class #1 Name (ex. 5th Grade Strings, 7th Grade Concert Band, etc)': 'Class #1 Name', 'Class #1 Classroom Number (If you do not have a specific room number, please provide a description of where the class is held)': 'Classroom Number #1'})\n",
    "full_classes = full_classes.rename(columns={'Class #2 Name (ex. 5th Grade Strings, 7th Grade Concert Band, etc)': 'Class #2 Name', 'Class #2 Classroom Number (If you do not have a specific room number, please provide a description of where the class is held)': 'Classroom Number #2'})\n",
    "full_classes = full_classes.rename(columns={'Class #3 Name (ex. 5th Grade Strings, 7th Grade Concert Band, etc)': 'Class #3 Name', 'Class #3 Classroom Number (If you do not have a specific room number, please provide a description of where the class is held)': 'Classroom Number #3'})\n",
    "full_students = full_students.rename(columns={'Student Name - Last, First': 'Student'})"
   ]
  },
  {
   "cell_type": "code",
   "execution_count": null,
   "metadata": {},
   "outputs": [],
   "source": [
    "# edit values in Private/Class Tutoring columns to be just number of students (0 - 4)\n",
    "full_tutors = full_tutors.replace({'Private Tutoring' : {'1 student' : 1, '2 students' : 2, '3 students' : 3, '4 students' : 4, 'No, I am not interested' : 0},\n",
    "                                  'Class Tutoring' : {'1 class' : 1, '2 classes' : 2, '3 classes' : 3, '4 classes' : 4, 'No, I am not interested' : 0}})\n",
    "# full_tutors and full_students dataframes will not be mutated after this"
   ]
  },
  {
   "cell_type": "code",
   "execution_count": null,
   "metadata": {},
   "outputs": [],
   "source": [
    "# split students into the 4 priorities \n",
    "application = 'Previous application with TMC'\n",
    "freeLunch = 'Does the student qualify for the free or reduced lunch program?'\n",
    "prevTutored = 'Yes, my student has previously applied and received lessons with TMC'\n",
    "prevApplied = 'Yes, my student has applied for lessons with TMC before but was not placed for lessons'\n",
    "newStudent = 'No, this is my student\\'s first time applying for lessons with TMC'\n",
    "\n",
    "students1 = full_students.loc[(full_students[application] == prevTutored)]\n",
    "students2 = full_students.loc[(full_students[application] == prevApplied) & (full_students[freeLunch] == 'Yes')]\n",
    "students3 = full_students.loc[(full_students[application] == newStudent) & (full_students[freeLunch] == 'Yes')]\n",
    "students4 = full_students.loc[(full_students[application] == prevApplied) & (full_students[freeLunch] == 'No')]\n",
    "students5 = full_students.loc[(full_students[application] == newStudent) & (full_students[freeLunch] == 'No')]"
   ]
  },
  {
   "cell_type": "code",
   "execution_count": null,
   "metadata": {},
   "outputs": [],
   "source": [
    "#split classes into separate rows\n",
    "classes1 = full_classes[['Email address','Name', 'School', 'Class #1 Name', 'Class #1 Grade Level', 'Class #1 Instruments (check all that apply)','Class #1 Timings [Monday]', 'Class #1 Timings [Tuesday]', 'Class #1 Timings [Wednesday]', 'Class #1 Timings [Thursday]', 'Class #1 Timings [Friday]', 'Classroom Number #1', 'How specifically would you like the tutors to help you? (ex. one-on-one, sectionals, etc.)', 'Any other requests or concerns that you would like TMC to know?']]\n",
    "classes2 = full_classes[['Email address','Name', 'School', 'Class #2 Name', 'Class #2 Grade Level', 'Class #2 Instruments (check all that apply)','Class #2 Timings [Monday]', 'Class #2 Timings [Tuesday]', 'Class #2 Timings [Wednesday]', 'Class #2 Timings [Thursday]', 'Class #2 Timings [Friday]', 'Classroom Number #2', 'How specifically would you like the tutors to help you? (ex. one-on-one, sectionals, etc.)', 'Any other requests or concerns that you would like TMC to know?']]\n",
    "classes3 = full_classes[['Email address','Name', 'School', 'Class #3 Name', 'Class #3 Grade Level', 'Class #3 Instruments (check all that apply)','Class #3 Timings [Monday]', 'Class #3 Timings [Tuesday]', 'Class #3 Timings [Wednesday]', 'Class #3 Timings [Thursday]', 'Class #3 Timings [Friday]', 'Classroom Number #3', 'How specifically would you like the tutors to help you? (ex. one-on-one, sectionals, etc.)', 'Any other requests or concerns that you would like TMC to know?']]\n",
    "new_cols = {x: y for x, y in zip(classes2.columns, classes1.columns)}\n",
    "classes1 = classes1.append(classes2.rename(columns=new_cols), ignore_index = True)\n",
    "new_cols = {x: y for x, y in zip(classes3.columns, classes1.columns)}\n",
    "classes1 = classes1.append(classes3.rename(columns=new_cols), ignore_index = True)\n",
    "classes1 = classes1[classes1['Class #1 Name'].isna() == False].reset_index(drop=True)\n",
    "full_classes = classes1.rename({'Class #1 Name': 'Class Name', 'Class #1 Grade Level': 'Grade Level','Class #1 Instruments (check all that apply)': 'Instruments', 'Class #1 Timings [Monday]': 'Monday', 'Class #1 Timings [Tuesday]': 'Tuesday', 'Class #1 Timings [Wednesday]': 'Wednesday', 'Class #1 Timings [Thursday]': 'Thursday', 'Class #1 Timings [Friday]':'Friday', 'Classroom Number #1': 'Classroom Number'},axis=1)\n",
    "full_classes"
   ]
  },
  {
   "cell_type": "code",
   "execution_count": null,
   "metadata": {},
   "outputs": [],
   "source": [
    "# more useful arrays\n",
    "student = ['Student']\n",
    "choices = ['Instrument (First Choice)', 'Instrument (Second Choice)', 'Instrument (Third Choice)']\n",
    "grade = ['Grade Level']\n",
    "\n",
    "days = ['Monday', 'Tuesday', 'Wednesday', 'Thursday', 'Friday', 'Saturday', 'Sunday']\n",
    "times = ['Before 11am', '11am-1pm', '1pm-3pm', '3pm-5pm', \"After 5pm\"]\n",
    "daystimes = [day + ' ' + time for day in days for time in times]\n",
    "\n",
    "class_days = ['Monday', 'Tuesday', 'Wednesday', 'Thursday', 'Friday']\n",
    "class_times = ['8AM', '9AM', '10AM', '11AM', '12PM', '1PM', '2PM', '3PM', 'After 4PM']\n",
    "class_daystimes = [day + ' ' + time for day in class_days for time in class_times]\n",
    "\n",
    "rangeToList = {'Before 11am': '8AM, 9AM, 10AM', '11am-1pm':'11AM, 12PM', '1pm-3pm':'1PM, 2PM', '3pm-5pm':'3PM, After 4PM', \"After 5pm\":'After 4PM'}"
   ]
  },
  {
   "cell_type": "code",
   "execution_count": null,
   "metadata": {},
   "outputs": [],
   "source": [
    "\"\"\"\n",
    "Function to preprocess the given dataframe.\n",
    "Arguments: data - raw dataframe (read from tutors.csv or students.csv)\n",
    "           status - 'students' or 'tutors'\n",
    "Returns: new dataframe with only the necessary columns for matching\n",
    "\"\"\"\n",
    "def preprocess(data, status):\n",
    "    # filter out irrelevant columns, remove/replace invalid data entries\n",
    "    data = data.replace(np.nan, '')\n",
    "    if status == 'students':\n",
    "        data = data[student + choices + days + grade]\n",
    "        # consolidate all instruments into one column, in the order of preference\n",
    "        data['Instrument'] = data[choices].agg(', '.join, axis=1)\n",
    "        data = data.drop(choices, 1)\n",
    "        data = data.rename(columns={'Grade Level': 'Grade'})\n",
    "        \n",
    "    elif status == 'tutors':\n",
    "        data = data[['Tutor', 'Instrument'] + days + ['Grade', 'Private Tutoring']]\n",
    "        \n",
    "    # standardize instrument name to be lowercase\n",
    "    data['Instrument'] = data['Instrument'].str.lower()\n",
    "    \n",
    "    # extract day/time availabilities into separate columns\n",
    "    index = 0\n",
    "    for i in range(len(days)):\n",
    "        for j in range(len(times)):\n",
    "            d = days[i]\n",
    "            t = times[j]\n",
    "            data[daystimes[index]] = data[d].str.contains(t)\n",
    "            index += 1\n",
    "    \n",
    "    # keep only day, time combination columns in dataframe\n",
    "    data = data.drop(days, 1)\n",
    "    \n",
    "    # add column for number of availabilities\n",
    "    temp = data[daystimes]\n",
    "    temp['Count'] = temp.sum(1)\n",
    "    data['Count'] = temp['Count']\n",
    "    data = data.sort_values(by='Count')\n",
    "    \n",
    "    return data"
   ]
  },
  {
   "cell_type": "code",
   "execution_count": null,
   "metadata": {},
   "outputs": [],
   "source": [
    "\"\"\"\n",
    "Function to preprocess the given dataframe.\n",
    "Arguments: data - raw dataframe (read from tutors.csv or students.csv)\n",
    "Returns: new dataframe with only the necessary columns for matching\n",
    "\"\"\"\n",
    "def preprocess_for_classes(data):\n",
    "    # filter out irrelevant columns, remove/replace invalid data entries\n",
    "    data = data.replace(np.nan, '')\n",
    "\n",
    "    data = data[['Tutor', 'Instrument'] + days + ['Grade', 'Class Tutoring']]\n",
    "    \n",
    "    data['Monday'] = data['Monday'].str.replace('Before 11am', '8AM, 9AM, 10AM')\n",
    "    \n",
    "    # standardize instrument name to be lowercase\n",
    "    data['Instrument'] = data['Instrument'].str.lower()\n",
    "    \n",
    "    index = 0\n",
    "    for i in range(len(days)):\n",
    "        for j in range(len(times)):\n",
    "            d = days[i]\n",
    "            t = times[j]\n",
    "            data[d] = data[d].str.replace(t, rangeToList[t])\n",
    "            index += 1\n",
    "    data = data.drop(['Saturday', 'Sunday'],1)\n",
    "    data = extract_times(data)\n",
    "\n",
    "    return data[data['Class Tutoring'] > 0]\n",
    "\n",
    "def extract_times(data):\n",
    "    # extract day/time availabilities into separate columns\n",
    "    data = data.replace(np.nan, '')\n",
    "    index = 0\n",
    "    for i in range(len(class_days)):\n",
    "        for j in range(len(class_times)):\n",
    "            d = class_days[i]\n",
    "            t = class_times[j]\n",
    "            data[class_daystimes[index]] = data[d].str.contains(t)\n",
    "            index += 1\n",
    "    \n",
    "    # keep only day, time combination columns in dataframe\n",
    "    data = data.drop(class_days, 1)\n",
    "    \n",
    "    # add column for number of availabilities\n",
    "    temp = data[class_daystimes]\n",
    "    temp['Count'] = temp.sum(1)\n",
    "    data['Count'] = temp['Count']\n",
    "    data = data.sort_values(by='Count')\n",
    "    data = data.drop('Count', axis=1)\n",
    "    return data\n"
   ]
  },
  {
   "cell_type": "code",
   "execution_count": null,
   "metadata": {},
   "outputs": [],
   "source": [
    "# create dataframes to use for matching\n",
    "pd.set_option('mode.chained_assignment', None)\n",
    "tutors = preprocess(full_tutors, 'tutors')\n",
    "# students = preprocess(full_students, 'students')\n",
    "\n",
    "students1 = preprocess(students1, 'students')\n",
    "students2 = preprocess(students2, 'students')\n",
    "students3 = preprocess(students3, 'students')\n",
    "students4 = preprocess(students4, 'students')\n",
    "students5 = preprocess(students5, 'students')\n",
    "\n",
    "# all students, in order of priority level and least to most available\n",
    "students = pd.concat([students1, students2, students3, students4, students5])\n",
    "\n",
    "#class matching\n",
    "tutors_for_classes = preprocess_for_classes(full_tutors)\n",
    "classes = extract_times(full_classes)"
   ]
  },
  {
   "cell_type": "code",
   "execution_count": null,
   "metadata": {},
   "outputs": [],
   "source": [
    "# copies to mutate in function; tutors will be removed once they are fully matched\n",
    "tutors2 = tutors[tutors['Private Tutoring'] > 0]"
   ]
  },
  {
   "cell_type": "code",
   "execution_count": null,
   "metadata": {},
   "outputs": [],
   "source": [
    "\"\"\"\n",
    "Takes in a student in the form of a tuple with (length, Series) -- values from a df.iterrows() iterable.\n",
    "Returns a list of matched tutor, instrument, and time slots, or a list of Nones if no match can be created.\n",
    "Matches are considered valid if there is an instrument overlap between student and tutor, and at least one time availability overlap.\n",
    "\"\"\"\n",
    "def match(student):\n",
    "    student_info = student[1]\n",
    "    # remove empty strings from student's instruments choice (i.e. if student has less than 3 preferences)\n",
    "    student_instruments = list(filter(None, student_info['Instrument'].split(', ')))\n",
    "    student_grade = student_info['Grade']\n",
    "    \n",
    "    t_without_count = tutors2.drop(columns='Count')\n",
    "        \n",
    "    # iterate through student's instruments, beginning with first choice\n",
    "    for instrument in student_instruments:\n",
    "        # iterate through all remaining tutors, searching for a match with specific instrument choice\n",
    "        for tutor in t_without_count.iterrows():\n",
    "            tutor_info = tutor[1]\n",
    "            tutor_instruments = tutor_info['Instrument']\n",
    "            tutor_grade = list(filter(None, tutor_info['Grade'].split(', ')))\n",
    "            # merge into one Series with values as lists of [tutor value, student value]\n",
    "            combined_info = tutor_info.combine(student_info, lambda x, y: [x, y])\n",
    "            # times where both tutor and student are available\n",
    "            times = [t for t in combined_info.index if combined_info[t] == [True, True]]\n",
    "            \n",
    "            #brute force grade preference\n",
    "            if instrument in tutor_instruments and len(times) > 0 and student_grade in tutor_grade:\n",
    "                return [tutor_info[0], instrument, times]\n",
    "        \n",
    "        for tutor in t_without_count.iterrows():\n",
    "            tutor_info = tutor[1]\n",
    "            tutor_instruments = tutor_info['Instrument']\n",
    "            tutor_grade = list(filter(None, tutor_info['Grade'].split(', ')))\n",
    "            # merge into one Series with values as lists of [tutor value, student value]\n",
    "            combined_info = tutor_info.combine(student_info, lambda x, y: [x, y])\n",
    "            # times where both tutor and student are available\n",
    "            times = [t for t in combined_info.index if combined_info[t] == [True, True]]\n",
    "            \n",
    "            # if instrument matches and there is at least one shared time availability\n",
    "            if instrument in tutor_instruments and len(times) > 0:\n",
    "                return [tutor_info[0], instrument, times]\n",
    "    \n",
    "    # no match found for any of the three instrument choices\n",
    "    return [None, None, None]"
   ]
  },
  {
   "cell_type": "code",
   "execution_count": null,
   "metadata": {},
   "outputs": [],
   "source": [
    "\"\"\"\n",
    "Takes in a class in the form of a tuple with (length, Series) -- values from a df.iterrows() iterable.\n",
    "Returns a list of matched tutor, instrument, and time slots, or a list of Nones if no match can be created.\n",
    "Matches are considered valid if there is an instrument overlap between student and tutor, and at least one time availability overlap.\n",
    "\"\"\"\n",
    "def match_classes(classes):\n",
    "    class_info = classes[1]\n",
    "    # remove empty strings from student's instruments choice (i.e. if student has less than 3 preferences)\n",
    "    class_instruments = list(filter(None, class_info['Instruments'].split(', ')))\n",
    "    class_grade = class_info['Grade Level']\n",
    "        \n",
    "    # iterate through student's instruments, beginning with first choice\n",
    "    for instrument in class_instruments:\n",
    "        # iterate through all remaining tutors, searching for a match with specific instrument choice\n",
    "        for tutor in tutors_for_classes.iterrows():\n",
    "            tutor_info = tutor[1]\n",
    "            tutor_instruments = tutor_info['Instrument']\n",
    "            tutor_grade = list(filter(None, tutor_info['Grade'].split(', ')))\n",
    "            # merge into one Series with values as lists of [tutor value, student value]\n",
    "            combined_info = tutor_info.combine(class_info, lambda x, y: [x, y])\n",
    "            # times where both tutor and student are available\n",
    "            times = [t for t in combined_info.index if combined_info[t] == [True, True]]\n",
    "            \n",
    "            #brute force grade preference\n",
    "            if instrument in tutor_instruments and len(times) > 0 and class_grade in tutor_grade:\n",
    "                return [tutor_info[0], instrument, times]\n",
    "        \n",
    "        for tutor in tutors_for_classes.iterrows():\n",
    "            tutor_info = tutor[1]\n",
    "            tutor_instruments = tutor_info['Instrument']\n",
    "            tutor_grade = list(filter(None, tutor_info['Grade'].split(', ')))\n",
    "            # merge into one Series with values as lists of [tutor value, student value]\n",
    "            combined_info = tutor_info.combine(class_info, lambda x, y: [x, y])\n",
    "            # times where both tutor and student are available\n",
    "            times = [t for t in combined_info.index if combined_info[t] == [True, True]]\n",
    "            \n",
    "            # if instrument matches and there is at least one shared time availability\n",
    "            if instrument in tutor_instruments and len(times) > 0:\n",
    "                return [tutor_info[0], instrument, times]\n",
    "    \n",
    "    # no match found for any of the three instrument choices\n",
    "    return [None, None, None]"
   ]
  },
  {
   "cell_type": "code",
   "execution_count": null,
   "metadata": {},
   "outputs": [],
   "source": [
    "# create the iterator from rows of students\n",
    "s_without_count = students.drop(columns='Count')\n",
    "students_iter = s_without_count.iterrows()"
   ]
  },
  {
   "cell_type": "code",
   "execution_count": null,
   "metadata": {},
   "outputs": [],
   "source": [
    "# create the dataframe to store matches once made\n",
    "matches = pd.DataFrame(columns=['Student', 'Tutor', 'Instrument', 'Time(s)'])\n",
    "class_matches = pd.DataFrame(columns=['Class', 'Tutor', 'Instrument', 'Time(s)'])"
   ]
  },
  {
   "cell_type": "code",
   "execution_count": null,
   "metadata": {},
   "outputs": [],
   "source": [
    "# iterate through students; use function defined above to get a match\n",
    "for c in classes.iterrows():\n",
    "    m = match_classes(c)\n",
    "    # add to matches dataframe\n",
    "    class_matches.loc[len(class_matches)] = [c[1][0]] + m\n",
    "    # remove tutor if successfully matched\n",
    "    if m[0] is not None:\n",
    "        tutor_idx = tutors_for_classes[tutors_for_classes['Tutor'] == m[0]].index[0]\n",
    "        tutors_for_classes.at[tutor_idx, 'Class Tutoring'] -= 1\n",
    "        if tutors_for_classes.at[tutor_idx, 'Class Tutoring'] == 0:\n",
    "            tutors_for_classes = tutors_for_classes.drop(tutors_for_classes[tutors_for_classes['Tutor'] == m[0]].index)\n",
    "        else:\n",
    "            # move tutor row to end of tutors_for_classes dataframe\n",
    "            idx = tutors_for_classes.index.tolist()\n",
    "            idx.remove(tutor_idx)\n",
    "            tutors_for_classes = tutors_for_classes.reindex(idx + [tutor_idx])\n",
    "class_matches"
   ]
  },
  {
   "cell_type": "code",
   "execution_count": null,
   "metadata": {},
   "outputs": [],
   "source": [
    "# iterate through students; use function defined above to get a match\n",
    "for s in students_iter:\n",
    "    m = match(s)\n",
    "    # add to matches dataframe\n",
    "    matches.loc[len(matches)] = [s[1][0]] + m\n",
    "    # remove tutor if fully matched\n",
    "    if m[0] is not None:\n",
    "        tutor_idx = tutors2[tutors2['Tutor'] == m[0]].index[0]\n",
    "        tutors2.at[tutor_idx, 'Private Tutoring'] -= 1\n",
    "        if tutors2.at[tutor_idx, 'Private Tutoring'] == 0:\n",
    "            tutors2 = tutors2.drop(tutors2[tutors2['Tutor'] == m[0]].index)\n",
    "        else:\n",
    "            # move tutor row to end of tutors2 dataframe\n",
    "            idx = tutors2.index.tolist()\n",
    "            idx.remove(tutor_idx)\n",
    "            tutors2 = tutors2.reindex(idx + [tutor_idx])"
   ]
  },
  {
   "cell_type": "code",
   "execution_count": null,
   "metadata": {},
   "outputs": [],
   "source": [
    "# matched students\n",
    "matched = matches[matches['Tutor'].notna()]\n",
    "matched"
   ]
  },
  {
   "cell_type": "code",
   "execution_count": null,
   "metadata": {},
   "outputs": [],
   "source": [
    "# unmatched students\n",
    "no_match = matches[matches['Tutor'].isna()]\n",
    "no_match"
   ]
  },
  {
   "cell_type": "code",
   "execution_count": null,
   "metadata": {},
   "outputs": [],
   "source": [
    "# unmatched tutors\n",
    "tutors2[['Tutor', 'Instrument', 'Count', 'Private Tutoring']]"
   ]
  },
  {
   "cell_type": "code",
   "execution_count": null,
   "metadata": {},
   "outputs": [],
   "source": [
    "# matches with relevant information (add any columns needed)\n",
    "matched = matched.merge(full_students[['Student', 'Email Address']], on='Student', how='left')\n",
    "matched = matched.merge(full_tutors[['Tutor', 'Email']], on='Tutor', how='left')\n",
    "matched = matched.rename(columns={'Email Address' : 'Student Email', 'Email' : 'Tutor Email'})\n",
    "matched"
   ]
  },
  {
   "cell_type": "code",
   "execution_count": null,
   "metadata": {},
   "outputs": [],
   "source": [
    "# students with no matches with relevant information (add any columns needed)\n",
    "no_match = no_match.merge(full_students[['Student', 'Email Address']], on='Student', how='left')\n",
    "no_match = no_match.rename(columns={'Email Address' : 'Student Email'}).drop(['Tutor', 'Instrument', 'Time(s)'], 1)\n",
    "no_match"
   ]
  },
  {
   "cell_type": "code",
   "execution_count": null,
   "metadata": {},
   "outputs": [],
   "source": [
    "# time for computation (in seconds):\n",
    "time.time() - start"
   ]
  },
  {
   "cell_type": "code",
   "execution_count": null,
   "metadata": {},
   "outputs": [],
   "source": []
  }
 ],
 "metadata": {
  "kernelspec": {
   "display_name": "Python 3",
   "language": "python",
   "name": "python3"
  },
  "language_info": {
   "codemirror_mode": {
    "name": "ipython",
    "version": 3
   },
   "file_extension": ".py",
   "mimetype": "text/x-python",
   "name": "python",
   "nbconvert_exporter": "python",
   "pygments_lexer": "ipython3",
   "version": "3.6.5"
  }
 },
 "nbformat": 4,
 "nbformat_minor": 2
}
